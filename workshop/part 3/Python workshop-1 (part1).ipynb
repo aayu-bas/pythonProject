{
 "cells": [
  {
   "cell_type": "code",
   "execution_count": 2,
   "id": "9d45a332",
   "metadata": {},
   "outputs": [
    {
     "name": "stdout",
     "output_type": "stream",
     "text": [
      "32\n"
     ]
    }
   ],
   "source": [
    "# The perimeter of a rectangle with length 9 & width 7\n",
    "#perimeter of a rectangle=2(l+b)\n",
    "perimeter=2*(9+7)\n",
    "print(perimeter)"
   ]
  },
  {
   "cell_type": "code",
   "execution_count": 3,
   "id": "46ca7df6",
   "metadata": {},
   "outputs": [
    {
     "name": "stdout",
     "output_type": "stream",
     "text": [
      "Aayusha\n"
     ]
    }
   ],
   "source": [
    "# Your name stored as a variable\n",
    "name='Aayusha'\n",
    "print(name)"
   ]
  },
  {
   "cell_type": "code",
   "execution_count": 6,
   "id": "19f5c380",
   "metadata": {},
   "outputs": [
    {
     "name": "stdout",
     "output_type": "stream",
     "text": [
      "Python is great, it's wild!\n"
     ]
    }
   ],
   "source": [
    "# Python is great, it’s wild!\n",
    "exclaim=\"Python is great, it's wild!\"\n",
    "print(exclaim)"
   ]
  },
  {
   "cell_type": "code",
   "execution_count": 9,
   "id": "ad8cadc2",
   "metadata": {},
   "outputs": [
    {
     "name": "stdout",
     "output_type": "stream",
     "text": [
      "The difference between Beth's Age(57) and Tom's (34)\n"
     ]
    }
   ],
   "source": [
    "# The difference between Beth’s age (57) and Tom’s (34)\n",
    "bethAge=57\n",
    "tomAge=34\n",
    "\n",
    "print('The difference between Beth\\'s Age({}) and Tom\\'s ({})'.format(bethAge,tomAge))"
   ]
  },
  {
   "cell_type": "code",
   "execution_count": 10,
   "id": "0ffd5fab",
   "metadata": {},
   "outputs": [
    {
     "name": "stdout",
     "output_type": "stream",
     "text": [
      "1024\n"
     ]
    }
   ],
   "source": [
    "# 2 to the 10th power\n",
    "power=2 ** 10\n",
    "print(power)"
   ]
  },
  {
   "cell_type": "code",
   "execution_count": 11,
   "id": "895da064",
   "metadata": {},
   "outputs": [
    {
     "name": "stdout",
     "output_type": "stream",
     "text": [
      "4920\n"
     ]
    }
   ],
   "source": [
    "# 7 factorial minus 5 factorial\n",
    "import math\n",
    "\n",
    "findFactorial= math.factorial(7) - math.factorial(5)\n",
    "print(findFactorial)"
   ]
  },
  {
   "cell_type": "code",
   "execution_count": 1,
   "id": "2985f78a",
   "metadata": {},
   "outputs": [
    {
     "name": "stdout",
     "output_type": "stream",
     "text": [
      "AayushaAayushaAayushaAayushaAayusha\n"
     ]
    }
   ],
   "source": [
    "# Your forename multiplied by 5\n",
    "foreName = \"Aayusha\"\n",
    "print(foreName * 5)"
   ]
  },
  {
   "cell_type": "code",
   "execution_count": 2,
   "id": "e8a1b74f",
   "metadata": {},
   "outputs": [
    {
     "name": "stdout",
     "output_type": "stream",
     "text": [
      "             aayusha\n"
     ]
    }
   ],
   "source": [
    "# Your name left justified 15 spaces\n",
    "name = \"aayusha\"\n",
    "print(format(name, \">15\"))"
   ]
  },
  {
   "cell_type": "code",
   "execution_count": 3,
   "id": "a648629f",
   "metadata": {},
   "outputs": [
    {
     "name": "stdout",
     "output_type": "stream",
     "text": [
      "3.14159\n"
     ]
    }
   ],
   "source": [
    "# PI to 5 decimal places\n",
    "import math\n",
    "\n",
    "pie=round(math.pi, 5)\n",
    "print(pie)"
   ]
  },
  {
   "cell_type": "code",
   "execution_count": 4,
   "id": "593e9bc0",
   "metadata": {},
   "outputs": [
    {
     "name": "stdout",
     "output_type": "stream",
     "text": [
      "7\n"
     ]
    }
   ],
   "source": [
    "# A variable with the name def that stores the number 7\n",
    "_def = 7\n",
    "print(_def)"
   ]
  },
  {
   "cell_type": "code",
   "execution_count": 5,
   "id": "6f163a84",
   "metadata": {},
   "outputs": [
    {
     "name": "stdout",
     "output_type": "stream",
     "text": [
      "8\n"
     ]
    }
   ],
   "source": [
    "# 200 modulus 12\n",
    "result = 200 % 12\n",
    "print(result)`"
   ]
  },
  {
   "cell_type": "code",
   "execution_count": 1,
   "id": "a8e4e9d1",
   "metadata": {},
   "outputs": [
    {
     "name": "stdout",
     "output_type": "stream",
     "text": [
      "7\n"
     ]
    }
   ],
   "source": [
    "# 7.2 as an integer value\n",
    "integer = 7.2\n",
    "print(int(integer))"
   ]
  },
  {
   "cell_type": "code",
   "execution_count": 3,
   "id": "754b5343",
   "metadata": {},
   "outputs": [
    {
     "name": "stdout",
     "output_type": "stream",
     "text": [
      "The Unicode encoding of my name [65, 97, 121, 117, 115, 104, 97]\n"
     ]
    }
   ],
   "source": [
    "# The Unicode encoding for your name\n",
    "name= \"Aayusha\"\n",
    "unicode = [ord(letter) for letter in name]\n",
    "print(\"The Unicode encoding of my name\", unicode)"
   ]
  },
  {
   "cell_type": "code",
   "execution_count": null,
   "id": "5ff2eb8c",
   "metadata": {},
   "outputs": [],
   "source": []
  }
 ],
 "metadata": {
  "kernelspec": {
   "display_name": "Python 3 (ipykernel)",
   "language": "python",
   "name": "python3"
  },
  "language_info": {
   "codemirror_mode": {
    "name": "ipython",
    "version": 3
   },
   "file_extension": ".py",
   "mimetype": "text/x-python",
   "name": "python",
   "nbconvert_exporter": "python",
   "pygments_lexer": "ipython3",
   "version": "3.11.5"
  }
 },
 "nbformat": 4,
 "nbformat_minor": 5
}
